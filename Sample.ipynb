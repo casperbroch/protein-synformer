{
 "cells": [
  {
   "cell_type": "code",
   "execution_count": null,
   "id": "f82e2af7-8b5c-412d-8802-356564023059",
   "metadata": {
    "scrolled": true
   },
   "outputs": [],
   "source": [
    "# Additional requirements just for this notebook:\n",
    "\n",
    "# !pip install huggingface_hub[cli]\n",
    "# !pip install esm \n",
    "# !pip install py3Dmol"
   ]
  },
  {
   "cell_type": "code",
   "execution_count": null,
   "id": "0e804045-ae4f-4a4d-96d8-73b2566892df",
   "metadata": {},
   "outputs": [],
   "source": [
    "# General:\n",
    "import os \n",
    "import io\n",
    "from omegaconf import OmegaConf\n",
    "# import huggingface_hub\n",
    "import requests\n",
    "import pathlib\n",
    "import pickle\n",
    "import pandas as pd\n",
    "import numpy as np\n",
    "import torch\n",
    "\n",
    "# ESM:\n",
    "# from esm.models.esmc import ESMC\n",
    "# from esm.models.esm3 import ESM3\n",
    "from esm.sdk.api import ESMProtein, LogitsConfig, GenerationConfig\n",
    "from esm.utils.structure.protein_chain import ProteinChain\n",
    "# from esm.utils.types import FunctionAnnotation\n",
    "from biotite.database import rcsb\n",
    "# from fa_helper import visualize_function_annotations, get_keywords_from_interpro, interpro2keywords\n",
    "from scripts.helpers.pdb import gene_to_pdb, fetch_pdb_ids\n",
    "\n",
    "# Visualization:\n",
    "import matplotlib.pyplot as plt\n",
    "from scripts.helpers.visualization import visualize_3D_protein\n",
    "from PIL import Image\n",
    "from IPython.display import SVG\n",
    "from rdkit.Chem import Draw\n",
    "from rdkit.Chem.Draw import SimilarityMaps\n",
    "from synformer.models.synformer import draw_generation_results\n",
    "import seaborn as sns\n",
    "\n",
    "# Chemistry:\n",
    "from rdkit import Chem\n",
    "import rdkit\n",
    "\n",
    "# Synformer:\n",
    "# from synformer.chem.fpindex import FingerprintIndex\n",
    "# from synformer.chem.matrix import ReactantReactionMatrix\n",
    "from synformer.chem.mol import Molecule\n",
    "from synformer.models.synformer import Synformer\n",
    "from scripts.sample_helpers import load_model, featurize_smiles, load_protein_molecule_pairs, sample"
   ]
  },
  {
   "cell_type": "code",
   "execution_count": null,
   "id": "7d883ae5-d492-4d02-b72e-f0c520ffd97d",
   "metadata": {},
   "outputs": [],
   "source": [
    "# Loading ESM-related configs:\n",
    "assert os.path.exists(\"configs/esm.yml\"), \"Missing config file: configs/esm.yml\" \n",
    "esm_config = OmegaConf.load(\"configs/esm.yml\")\n",
    "# huggingface_hub.login(esm_config.hf_token)"
   ]
  },
  {
   "cell_type": "markdown",
   "id": "e58d8881-47ec-4ac1-9331-76b52a1e5da6",
   "metadata": {},
   "source": [
    "### 1. Loading the data"
   ]
  },
  {
   "cell_type": "code",
   "execution_count": null,
   "id": "08a5a1cd-053d-4c88-9b55-8e0fde24b4e2",
   "metadata": {},
   "outputs": [],
   "source": [
    "# Dataset paths\n",
    "# protein_molecule_pairs_path = os.path.join(\"data\", \"protein_molecule_pairs\", \"papyrus_val_19399.csv\")\n",
    "protein_molecule_pairs_path = os.path.join(\"data\", \"protein_molecule_pairs\", \"papyrus_test_19399.csv\")\n",
    "protein_embeddings_path = os.path.join(\"data\", \"protein_embeddings\", \"embeddings_selection_float16_4973.pth\")\n",
    "synthetic_pathways_path = os.path.join(\"data\", \"synthetic_pathways\", \"filtered_pathways_370000.pth\")"
   ]
  },
  {
   "cell_type": "code",
   "execution_count": null,
   "id": "4a21c293-fd07-49fc-b89d-905fc01334f0",
   "metadata": {},
   "outputs": [],
   "source": [
    "df_protein_molecule_pairs = load_protein_molecule_pairs(protein_molecule_pairs_path)\n",
    "df_protein_molecule_pairs = df_protein_molecule_pairs.reset_index()\n",
    "\n",
    "# Some example entries\n",
    "df_protein_molecule_pairs.sample(10)"
   ]
  },
  {
   "cell_type": "code",
   "execution_count": null,
   "id": "789dc6ef-fda9-4da8-b1a2-a38d06c41e0d",
   "metadata": {},
   "outputs": [],
   "source": [
    "protein_embeddings = torch.load(protein_embeddings_path, map_location=torch.device(\"cpu\"))\n",
    "print(len(protein_embeddings), \"protein embeddings\")\n",
    "\n",
    "synthetic_pathways = torch.load(synthetic_pathways_path, map_location=torch.device(\"cpu\"))\n",
    "print(len(synthetic_pathways), \"synthetic pathways\")"
   ]
  },
  {
   "cell_type": "code",
   "execution_count": null,
   "id": "13b59b57-9994-484a-8aec-13a0a556317b",
   "metadata": {
    "scrolled": true
   },
   "outputs": [],
   "source": [
    "# Retrieve amino-acid sequences for given target IDs\n",
    "# Alternatively: they're still in original dataset?\n",
    "\n",
    "def get_amino_acid_sequence(target_id):\n",
    "    if \"_\" in target_id:\n",
    "        target_id = target_id.split(\"_\")[0]\n",
    "    pdb_id, _ = fetch_pdb_ids(target_id)\n",
    "    if pdb_id is None:\n",
    "        # print(f\"No PDB ID found for {target_id}\")\n",
    "        return \n",
    "    else:\n",
    "        protein_chain = ProteinChain.from_pdb(rcsb.fetch(pdb_id, \"pdb\"), chain_id=\"A\") \n",
    "        known_protein = ESMProtein.from_protein_chain(protein_chain) \n",
    "        return known_protein.sequence\n",
    "\n",
    "unique_proteins = df_protein_molecule_pairs[\"target_id\"].unique()\n",
    "aa_seq_path = os.path.join(\"data\", \"other\", \"aa_seq_test.csv\")\n",
    "if os.path.exists(aa_seq_path):\n",
    "    df_aa_seq = pd.read_csv(aa_seq_path)\n",
    "else:\n",
    "    aa_seq = []\n",
    "    for target_id in unique_proteins:\n",
    "        try:\n",
    "            aa_seq.append({\n",
    "                \"target_id\": target_id,\n",
    "                \"aa_seq\": get_amino_acid_sequence(target_id)\n",
    "            })\n",
    "        except Exception as e:\n",
    "            print(f\"({target_id})\", e)\n",
    "    df_aa_seq = pd.DataFrame(aa_seq)\n",
    "    df_aa_seq.to_csv(aa_seq_path, index=False)"
   ]
  },
  {
   "cell_type": "markdown",
   "id": "6eca8839-96de-49de-89bc-c6daa777ee28",
   "metadata": {},
   "source": [
    "### 2. Loading the model"
   ]
  },
  {
   "cell_type": "code",
   "execution_count": null,
   "id": "5bdedc32-c1e3-410c-af80-1eda0989e2e2",
   "metadata": {},
   "outputs": [],
   "source": [
    "# Protein-Synformer model configs\n",
    "# config_path = \"configs/prot2drug.yml\"  \n",
    "# config = OmegaConf.load(config_path)\n",
    "\n",
    "# Sampling settings\n",
    "model_name = \"epoch=23-step=28076\"\n",
    "model_path = os.path.join(\"data\", \"trained_weights\", f\"{model_name}.ckpt\")\n",
    "config_path = None\n",
    "device = \"cpu\""
   ]
  },
  {
   "cell_type": "code",
   "execution_count": null,
   "id": "cb86d6a8-d66f-46ac-bb23-c9f5a0a724ec",
   "metadata": {},
   "outputs": [],
   "source": [
    "model, fpindex, rxn_matrix = load_model(model_path, config_path, device)"
   ]
  },
  {
   "cell_type": "markdown",
   "id": "c50a6d7e-89a5-459c-8300-2ac6a082feb9",
   "metadata": {
    "jp-MarkdownHeadingCollapsed": true
   },
   "source": [
    "### 3. Example"
   ]
  },
  {
   "cell_type": "code",
   "execution_count": null,
   "id": "cd50dbbd-cd6e-4dc0-b7f8-4f859370050a",
   "metadata": {},
   "outputs": [],
   "source": [
    "# Random example\n",
    "ex_smiles, ex_target_id, ex_short_target_id = df_protein_molecule_pairs.sample().iloc[0]\n",
    "ex_protein_embeddings = protein_embeddings[ex_target_id].float()\n",
    "ex_synthetic_pathway_true = synthetic_pathways[ex_smiles]\n",
    "\n",
    "print(\"SMILES:\", ex_smiles)\n",
    "print(\"Target:\", ex_target_id)\n",
    "print(\"Protein embeddings:\", ex_protein_embeddings.shape)\n",
    "print(\"True synthetic pathway:\", ex_synthetic_pathway_true)"
   ]
  },
  {
   "cell_type": "code",
   "execution_count": null,
   "id": "0a5ae98a-d3fe-48d1-8d22-45f91fcc8bfb",
   "metadata": {},
   "outputs": [],
   "source": [
    "ex_pdb_id, ex_df_pdb_ids = fetch_pdb_ids(ex_short_target_id)\n",
    "\n",
    "if ex_pdb_id is None:\n",
    "    print(f\"No PDB ID found for {ex_short_target_id}\")\n",
    "else:\n",
    "    print(\"PDB ID:\", ex_pdb_id)\n",
    "    ex_protein_chain = ProteinChain.from_pdb(rcsb.fetch(ex_pdb_id, \"pdb\"), chain_id=\"A\") \n",
    "    # Get protein object with all the ground-truth data (except function for some reason) \n",
    "    # In the code, they don't provide a way to automatically fetch function annotations, \n",
    "    # instead I have to fetch them myself and then set ex_protein.function_annotations \n",
    "    ex_known_protein = ESMProtein.from_protein_chain(ex_protein_chain) \n",
    "\n",
    "    # Get protein with just the sequence data \n",
    "    # So that we can predict the other tracks later \n",
    "    # ex_protein = ESMProtein(sequence=ex_protein_chain.sequence) \n",
    "    \n",
    "    # print(len(ex_known_protein.sequence))\n",
    "    print(ex_known_protein.sequence)\n",
    "    \n",
    "    # TODO: have ESM predict binding site and then also visualize it \n",
    "    # (already done in Binding Site notebook)\n",
    "    #\n",
    "    #\n",
    "    #\n",
    "    #\n",
    "    #\n",
    "    \n",
    "    visualize_3D_protein(ex_known_protein, style=\"cartoon\")"
   ]
  },
  {
   "cell_type": "code",
   "execution_count": null,
   "id": "efb83e85-c3c0-447d-a231-4e725d27ecc0",
   "metadata": {},
   "outputs": [],
   "source": [
    "info, result = sample( \n",
    "    ex_target_id,\n",
    "    model, \n",
    "    fpindex, \n",
    "    rxn_matrix,  \n",
    "    protein_embeddings, \n",
    "    device,\n",
    "    true_smiles=ex_smiles,\n",
    "    repeat=50\n",
    ")\n",
    "# prints: analog.sim(mol), cnt_rxn, log_likelihood, analog.smiles"
   ]
  },
  {
   "cell_type": "code",
   "execution_count": null,
   "id": "bc1d652d-7de5-483e-b0c2-81b7aa0f0234",
   "metadata": {},
   "outputs": [],
   "source": [
    "# Best one:\n",
    "best_idx = pd.DataFrame(info).T[\"similarity\"].idxmax()\n",
    "\n",
    "print(\"True:\", ex_smiles)\n",
    "print(\"Pred:\", info[best_idx][\"smiles\"])\n",
    "\n",
    "info[best_idx]"
   ]
  },
  {
   "cell_type": "code",
   "execution_count": null,
   "id": "326e2043-95c3-4dea-84e2-41f7b108ce48",
   "metadata": {},
   "outputs": [],
   "source": [
    "# TODO\n",
    "# draw_generation_results(result)[best_idx]  \n",
    "\n",
    "\n",
    "\n",
    "\n",
    "\n"
   ]
  },
  {
   "cell_type": "code",
   "execution_count": null,
   "id": "21ba7cc0-09cb-4723-baf9-49aff42430e3",
   "metadata": {},
   "outputs": [],
   "source": [
    "Draw.MolsToGridImage((\n",
    "    Chem.MolFromSmiles(ex_smiles),     # true \n",
    "    Chem.MolFromSmiles(info[best_idx][\"smiles\"])  # predicted\n",
    "))"
   ]
  },
  {
   "cell_type": "code",
   "execution_count": null,
   "id": "c25045ba-3bab-4d0c-887a-bd3581d84b40",
   "metadata": {},
   "outputs": [],
   "source": [
    "# Similarity map\n",
    "# Source: https://greglandrum.github.io/rdkit-blog/posts/2020-01-03-similarity-maps-with-new-drawing-code.html\n",
    "\n",
    "d = Draw.MolDraw2DCairo(400, 400)\n",
    "_, max_weight = SimilarityMaps.GetSimilarityMapForFingerprint(\n",
    "    Chem.MolFromSmiles(ex_smiles),\n",
    "    Chem.MolFromSmiles(info[best_idx][\"smiles\"]), \n",
    "    lambda m, i: SimilarityMaps.GetMorganFingerprint(m, i, radius=2, fpType=\"bv\"), \n",
    "    draw2d=d\n",
    ")\n",
    "d.FinishDrawing()\n",
    "Image.open(io.BytesIO(d.GetDrawingText()))"
   ]
  },
  {
   "cell_type": "markdown",
   "id": "13ec81af-ff37-4a35-ac1e-50608ced38ec",
   "metadata": {},
   "source": [
    "### 4. Evaluation"
   ]
  },
  {
   "cell_type": "code",
   "execution_count": null,
   "id": "adc25dfc-d487-41df-a9e6-f18300192c9f",
   "metadata": {},
   "outputs": [],
   "source": [
    "infos = pickle.load(open(f\"data/evaluations/{model_name}/infos_210of300_2025-06-09 22-32-20.pkl\", \"rb\"))\n",
    "\n",
    "# timestamp = \"2025-06-09 19-51-21\"\n",
    "# infos = pickle.load(open(f\"data/evaluations/{model_name}/infos {timestamp}.pkl\", \"rb\"))\n",
    "# results = pickle.load(open(f\"data/evaluations/{model_name}/results {timestamp}.pkl\", \"rb\"))"
   ]
  },
  {
   "cell_type": "markdown",
   "id": "de5ec21d-8fe2-49e6-942a-c69ef37b88e1",
   "metadata": {},
   "source": [
    "#### 4.1. Tanimoto similarity"
   ]
  },
  {
   "cell_type": "code",
   "execution_count": null,
   "id": "6d5850c3-ef6a-48e0-b7bf-d87f8b8bf862",
   "metadata": {},
   "outputs": [],
   "source": [
    "similarity_data = []\n",
    "\n",
    "df = df_protein_molecule_pairs.set_index(\"target_id\")\n",
    "\n",
    "# Go through all proteins that were processed during this evaluation:\n",
    "for target_id, info in infos.items():\n",
    "    # print(target_id)\n",
    "    \n",
    "    # Go through all predictions made for this protein:\n",
    "    for idx, pred in info.items():\n",
    "        pred_smiles = pred[\"smiles\"]\n",
    "        mol_pred = Molecule(pred_smiles)\n",
    "        # print(\"  \", pred_smiles)\n",
    "        \n",
    "        # Go through all true smiles for this protein and compute similarities:\n",
    "        for true_smiles in df.loc[target_id, \"SMILES\"]:\n",
    "            # print(\"    \", true_smiles)\n",
    "            mol_true = Molecule(true_smiles)\n",
    "            sim = mol_pred.sim(mol_true)  # Tanimoto similarity\n",
    "            # Alternative similarity score: mol_pred.dice_similarity(mol_true) \n",
    "            similarity_data.append({\n",
    "                \"true_smiles\": true_smiles,\n",
    "                \"pred_smiles\": pred_smiles,\n",
    "                \"target_id\": target_id,\n",
    "                \"similarity\": sim\n",
    "            })\n",
    "\n",
    "df_similarity = pd.DataFrame(similarity_data)\n",
    "df_similarity = df_similarity.drop_duplicates()\n",
    "\n",
    "del df \n",
    "\n",
    "# Example entries:\n",
    "df_similarity.sample(10) "
   ]
  },
  {
   "cell_type": "code",
   "execution_count": null,
   "id": "b5bdbdab-ebc8-4c41-92de-96afa6278469",
   "metadata": {},
   "outputs": [],
   "source": [
    "df_similarity.describe()"
   ]
  },
  {
   "cell_type": "code",
   "execution_count": null,
   "id": "bf1f3b9a-9fef-40ca-92c9-6708fe40f220",
   "metadata": {},
   "outputs": [],
   "source": [
    "# Random (protein, molecule) pair and all corresponding predictions: \n",
    "\n",
    "rand_target_id, rand_true_smiles = df_similarity[[\"target_id\", \"true_smiles\"]].sample().iloc[0]\n",
    "df_similarity[(df_similarity[\"target_id\"]==rand_target_id) & (df_similarity[\"true_smiles\"]==rand_true_smiles)].sort_values(\"similarity\", ascending=False)"
   ]
  },
  {
   "cell_type": "code",
   "execution_count": null,
   "id": "ec02cf73-e9a9-41af-b3a3-8eb4b1415522",
   "metadata": {},
   "outputs": [],
   "source": [
    "# The very best prediction out of all predictions\n",
    "\n",
    "best_pred = df_similarity.loc[df_similarity[\"similarity\"].idxmax()]\n",
    "\n",
    "print(best_pred)\n",
    "\n",
    "Draw.MolsToGridImage((\n",
    "    Chem.MolFromSmiles(best_pred[\"true_smiles\"]),\n",
    "    Chem.MolFromSmiles(best_pred[\"pred_smiles\"])\n",
    "))"
   ]
  },
  {
   "cell_type": "code",
   "execution_count": null,
   "id": "39cc2ea6-441f-44b8-862f-8df6b9be4568",
   "metadata": {},
   "outputs": [],
   "source": [
    "# For each (protein, molecule) pair, find the best prediction\n",
    "\n",
    "best_pred_per_pair = df_similarity.loc[df_similarity.groupby([\"target_id\", \"true_smiles\"])[\"similarity\"].idxmax()]\n",
    "print(len(best_pred_per_pair))\n",
    "\n",
    "# Some examples:\n",
    "# best_pred_per_pair.sample(10)\n",
    "\n",
    "best_pred_per_pair.describe()"
   ]
  },
  {
   "cell_type": "code",
   "execution_count": null,
   "id": "28b3471f-719c-4392-aab9-9601aa54e895",
   "metadata": {},
   "outputs": [],
   "source": [
    "# For each protein, find the best prediction\n",
    "\n",
    "best_pred_per_protein = df_similarity.loc[df_similarity.groupby([\"target_id\"])[\"similarity\"].idxmax()]\n",
    "print(len(best_pred_per_protein))\n",
    "\n",
    "# Some examples:\n",
    "# best_pred_per_protein.sample(10)\n",
    "\n",
    "best_pred_per_protein.describe()"
   ]
  },
  {
   "cell_type": "code",
   "execution_count": null,
   "id": "b7a71f06-6044-412d-8393-8c8c77484a84",
   "metadata": {},
   "outputs": [],
   "source": [
    "plt.title(\"Distribution of similarity scores\")\n",
    "sns.kdeplot(df_similarity[\"similarity\"], fill=True, label=\"all\");\n",
    "sns.kdeplot(df_similarity.groupby([\"target_id\", \"true_smiles\"])[\"similarity\"].max(), fill=True, label=\"best per pair\")  # best prediction per protein-molecule pair \n",
    "sns.kdeplot(df_similarity.groupby([\"target_id\"])[\"similarity\"].max(), fill=True, label=\"best per protein\")  # best prediction per protein\n",
    "plt.legend();"
   ]
  },
  {
   "cell_type": "code",
   "execution_count": null,
   "id": "9fc9c472-1004-4616-b8b4-fd51666ad22f",
   "metadata": {},
   "outputs": [],
   "source": [
    "plt.title(\"Distribution of SMILES lengths\")\n",
    "sns.histplot(df_similarity[\"pred_smiles\"].str.len(), fill=True, label=\"pred\", binwidth=1, alpha=0.5)\n",
    "sns.histplot(df_similarity[\"true_smiles\"].str.len(), fill=True, label=\"true\", binwidth=1, alpha=0.5)\n",
    "plt.legend();"
   ]
  },
  {
   "cell_type": "markdown",
   "id": "817b7aaa-10d5-4d7f-a2ed-8416783c4870",
   "metadata": {},
   "source": [
    " "
   ]
  },
  {
   "cell_type": "markdown",
   "id": "22889e82-559d-4e22-a242-22e0bf3c572c",
   "metadata": {},
   "source": [
    "#### 4.2. Binding affinity predictions"
   ]
  },
  {
   "cell_type": "code",
   "execution_count": null,
   "id": "0d51e38c-bcc8-4401-b4a5-ce07bda2d1e3",
   "metadata": {},
   "outputs": [],
   "source": [
    "# !pip install deeppurpose\n",
    "# !pip install git+https://github.com/bp-kelley/descriptastorus \n",
    "# !pip install pandas-flavor"
   ]
  },
  {
   "cell_type": "code",
   "execution_count": null,
   "id": "3692f1e6-3728-42ed-99bb-49b375738be6",
   "metadata": {},
   "outputs": [],
   "source": [
    "from DeepPurpose import DTI as models\n",
    "import DeepPurpose.utils as utils"
   ]
  },
  {
   "cell_type": "code",
   "execution_count": null,
   "id": "d23c9d0d-a962-444c-9826-95864a74874b",
   "metadata": {},
   "outputs": [],
   "source": [
    "# Load pretrained model (MPNN for drug, CNN for protein)\n",
    "model = models.model_pretrained(model=\"MPNN_CNN_DAVIS\")"
   ]
  },
  {
   "cell_type": "code",
   "execution_count": null,
   "id": "01ec138f-2ec2-4a4c-8d2b-b6f2eec0ba05",
   "metadata": {},
   "outputs": [],
   "source": [
    "# Example: best_pred\n",
    "# seq = get_amino_acid_sequence(best_pred[\"target_id\"])\n",
    "seq = df_aa_seq.set_index(\"target_id\").loc[best_pred[\"target_id\"], \"aa_seq\"]\n",
    "\n",
    "# SMILES strings\n",
    "X_drug = [\n",
    "    best_pred[\"true_smiles\"], \n",
    "    best_pred[\"pred_smiles\"],\n",
    "]\n",
    "\n",
    "# Protein sequences\n",
    "X_target = [\n",
    "    seq,\n",
    "    seq,\n",
    "]\n",
    "\n",
    "# Ground-truth labels??\n",
    "labels = np.zeros(len(X_drug))\n",
    "\n",
    "drug_encoding = \"MPNN\"\n",
    "target_encoding = \"CNN\"\n",
    "\n",
    "X = utils.data_process(\n",
    "    X_drug, \n",
    "    X_target, \n",
    "    labels, \n",
    "    drug_encoding, \n",
    "    target_encoding, \n",
    "    split_method=\"no_split\"\n",
    ")\n",
    "\n",
    "y = model.predict(X)\n",
    "y"
   ]
  },
  {
   "cell_type": "markdown",
   "id": "2b3c76bb-665d-424c-8391-34c5d92421c4",
   "metadata": {},
   "source": [
    "#### 4.2.1. Binding affinity of predicted molecules most similar to true molecules"
   ]
  },
  {
   "cell_type": "code",
   "execution_count": null,
   "id": "d87a7b73-6459-4d58-bc4b-ffd8d038addd",
   "metadata": {},
   "outputs": [],
   "source": [
    "# Add amino-acid sequence column:\n",
    "df_binding = best_pred_per_pair.set_index(\"target_id\").join(df_aa_seq.set_index(\"target_id\")).reset_index()\n",
    "\n",
    "# Only keep those for which we were able to retrieve an amino acid sequence\n",
    "df_binding = df_binding.dropna()"
   ]
  },
  {
   "cell_type": "code",
   "execution_count": null,
   "id": "458d39b3-ea85-4f66-9fd2-46e9535485c4",
   "metadata": {},
   "outputs": [],
   "source": [
    "%%time\n",
    "# Predict binding affinity for true SMILES (from Papyrus dataset)\n",
    "# and for our predicted SMILES\n",
    "\n",
    "# Could be done more efficiently, since it's probably doing a lot of pairs multiple times.\n",
    "# But it's not too slow, so it's fine for now\n",
    "\n",
    "X_true = utils.data_process(\n",
    "    df_binding[\"true_smiles\"].values, \n",
    "    df_binding[\"aa_seq\"].values, \n",
    "    np.zeros(len(df_binding)), \n",
    "    drug_encoding,  # same as above\n",
    "    target_encoding,  # same as above\n",
    "    split_method=\"no_split\"\n",
    ")\n",
    "\n",
    "X_pred = utils.data_process(\n",
    "    df_binding[\"pred_smiles\"].values, \n",
    "    df_binding[\"aa_seq\"].values, \n",
    "    np.zeros(len(df_binding)), \n",
    "    drug_encoding,  # same as above\n",
    "    target_encoding,  # same as above\n",
    "    split_method=\"no_split\"\n",
    ")\n",
    "\n",
    "df_binding[\"binding_affinity_true\"] = model.predict(X_true)\n",
    "df_binding[\"binding_affinity_pred\"] = model.predict(X_pred)\n",
    "\n",
    "# Not needed anymore; removing it makes the table easier read\n",
    "del df_binding[\"aa_seq\"]"
   ]
  },
  {
   "cell_type": "code",
   "execution_count": null,
   "id": "c0cf845a-4a53-40e0-9550-00a80da4638d",
   "metadata": {},
   "outputs": [],
   "source": [
    "# How much better does it bind than the true SMILES?\n",
    "#  >0: binds more\n",
    "#  =0: binds exactly the same\n",
    "#  <0: binds less \n",
    "\n",
    "df_binding[\"binding_affinity_diff\"] = df_binding[\"binding_affinity_pred\"] - df_binding[\"binding_affinity_true\"] "
   ]
  },
  {
   "cell_type": "code",
   "execution_count": null,
   "id": "1902acf3-8df4-4c6a-94d9-93cf7f31e91a",
   "metadata": {},
   "outputs": [],
   "source": [
    "# Top 10 predicted molecules that bind better than the true molecule\n",
    "df_binding.sort_values(\"binding_affinity_diff\", ascending=False).iloc[:10]"
   ]
  },
  {
   "cell_type": "code",
   "execution_count": null,
   "id": "7ff7b5c0-1379-4854-8156-14681aff3f68",
   "metadata": {},
   "outputs": [],
   "source": [
    "# Top 10 predicted molecules that bind worse than the true molecule\n",
    "df_binding.sort_values(\"binding_affinity_diff\", ascending=True).iloc[:10]"
   ]
  },
  {
   "cell_type": "code",
   "execution_count": null,
   "id": "a4c97306-fd3f-4d8b-8f69-b31aaa89506b",
   "metadata": {},
   "outputs": [],
   "source": [
    "df_binding.describe()"
   ]
  },
  {
   "cell_type": "code",
   "execution_count": null,
   "id": "b8bd8a0a-a204-4f66-a799-794596bba488",
   "metadata": {},
   "outputs": [],
   "source": [
    "plt.title(\"Distribution of binding affinity differences\")\n",
    "sns.kdeplot(df_binding[\"binding_affinity_diff\"], fill=True);\n",
    "# sns.kdeplot(df_binding.drop_duplicates([\"target_id\", \"pred_smiles\"])[\"binding_affinity_diff\"], fill=True);"
   ]
  },
  {
   "cell_type": "markdown",
   "id": "972fc175-0620-4c79-8441-17a7887a3eb0",
   "metadata": {},
   "source": [
    " "
   ]
  },
  {
   "cell_type": "markdown",
   "id": "9da23229-2069-41dd-be9a-76c233c6ffbe",
   "metadata": {},
   "source": [
    "#### 4.2.2. Binding affinity of all predicted molecules"
   ]
  },
  {
   "cell_type": "markdown",
   "id": "b8a7b0e0-d9fd-4564-8c0d-a63473cc5b38",
   "metadata": {},
   "source": [
    "Above, I only picked those predicted molecules that are most similar to the true molecules (`best_pred_per_pair`).  \n",
    "But it looks like the similarity might not be the most important metric. Even very dissimilar ones can bind very well.  \n",
    "Let's get the binding affinity of all predictions: "
   ]
  },
  {
   "cell_type": "code",
   "execution_count": null,
   "id": "f6ee76b2-fb42-4636-9462-6a91851c699e",
   "metadata": {},
   "outputs": [],
   "source": [
    "# Add amino-acid sequence column:\n",
    "df_binding_all = df_similarity.drop_duplicates([\"target_id\", \"pred_smiles\"]).set_index(\"target_id\").join(df_aa_seq.set_index(\"target_id\")).reset_index()\n",
    "\n",
    "# Only keep those for which we were able to retrieve an amino acid sequence\n",
    "df_binding_all = df_binding_all.dropna()"
   ]
  },
  {
   "cell_type": "code",
   "execution_count": null,
   "id": "14e0d44f-8437-427a-88a4-b6853a21d72f",
   "metadata": {},
   "outputs": [],
   "source": [
    "# Above, there were this many unique protein-molecule predictions:\n",
    "print(len(best_pred_per_pair[[\"target_id\", \"pred_smiles\"]].drop_duplicates()))\n",
    "\n",
    "# But I didn't find the amino acid sequence for some proteins, so it ended up being only:\n",
    "print(len(df_binding[[\"target_id\", \"pred_smiles\"]].drop_duplicates()))"
   ]
  },
  {
   "cell_type": "code",
   "execution_count": null,
   "id": "03b78b4f-703c-4985-aead-7cfd71dd2408",
   "metadata": {},
   "outputs": [],
   "source": [
    "# Now, we look at all unique protein-molecule predictions.\n",
    "# There are this many: \n",
    "print(len(df_similarity[[\"target_id\", \"pred_smiles\"]].drop_duplicates()))\n",
    "\n",
    "# But for some, I won't have the amino acid sequence again:\n",
    "print(len(df_binding_all))"
   ]
  },
  {
   "cell_type": "code",
   "execution_count": null,
   "id": "b3b009bf-dddc-4c55-910c-2cf71ff03cf4",
   "metadata": {},
   "outputs": [],
   "source": [
    "%%time\n",
    "# Predict binding affinity for true SMILES (from Papyrus dataset)\n",
    "# and for our predicted SMILES\n",
    "\n",
    "# Could be done more efficiently, since it's probably doing a lot of pairs multiple times.\n",
    "# But it's not too slow, so it's fine for now\n",
    "\n",
    "X_true = utils.data_process(\n",
    "    df_binding_all[\"true_smiles\"].values, \n",
    "    df_binding_all[\"aa_seq\"].values, \n",
    "    np.zeros(len(df_binding_all)), \n",
    "    drug_encoding,  # same as above\n",
    "    target_encoding,  # same as above\n",
    "    split_method=\"no_split\"\n",
    ")\n",
    "\n",
    "X_pred = utils.data_process(\n",
    "    df_binding_all[\"pred_smiles\"].values, \n",
    "    df_binding_all[\"aa_seq\"].values, \n",
    "    np.zeros(len(df_binding_all)), \n",
    "    drug_encoding,  # same as above\n",
    "    target_encoding,  # same as above\n",
    "    split_method=\"no_split\"\n",
    ")\n",
    "\n",
    "df_binding_all[\"binding_affinity_true\"] = model.predict(X_true)\n",
    "df_binding_all[\"binding_affinity_pred\"] = model.predict(X_pred)\n",
    "\n",
    "# Not needed anymore; removing it makes the table easier read\n",
    "del df_binding_all[\"aa_seq\"]"
   ]
  },
  {
   "cell_type": "code",
   "execution_count": null,
   "id": "5257477b-c9ff-4bd4-9a89-8d1d81079276",
   "metadata": {},
   "outputs": [],
   "source": [
    "# How much better does it bind than the true SMILES?\n",
    "#  >0: binds more\n",
    "#  =0: binds exactly the same\n",
    "#  <0: binds less \n",
    "\n",
    "df_binding_all[\"binding_affinity_diff\"] = df_binding_all[\"binding_affinity_pred\"] - df_binding_all[\"binding_affinity_true\"] "
   ]
  },
  {
   "cell_type": "code",
   "execution_count": null,
   "id": "100f01a2-f9b0-4401-bb8e-b00eae9cf91d",
   "metadata": {},
   "outputs": [],
   "source": [
    "# Top 10 predicted molecules that bind better than the true molecule\n",
    "df_binding_all.sort_values(\"binding_affinity_diff\", ascending=False).iloc[:10]"
   ]
  },
  {
   "cell_type": "code",
   "execution_count": null,
   "id": "1a5d707d-35d3-4dfa-9f58-4fd302f6c9a9",
   "metadata": {},
   "outputs": [],
   "source": [
    "# Top 10 predicted molecules that bind worse than the true molecule\n",
    "df_binding_all.sort_values(\"binding_affinity_diff\", ascending=True).iloc[:10]"
   ]
  },
  {
   "cell_type": "code",
   "execution_count": null,
   "id": "af6149c5-8c4d-45bf-bb03-88701837d530",
   "metadata": {},
   "outputs": [],
   "source": [
    "df_binding_all.describe()"
   ]
  },
  {
   "cell_type": "code",
   "execution_count": null,
   "id": "3b309692-68ba-4681-b35a-aa8a55d9abbd",
   "metadata": {},
   "outputs": [],
   "source": [
    "plt.title(\"Distribution of binding affinity differences\")\n",
    "sns.kdeplot(df_binding[\"binding_affinity_diff\"], fill=True);\n",
    "# sns.kdeplot(df_binding.drop_duplicates([\"target_id\", \"pred_smiles\"])[\"binding_affinity_diff\"], fill=True);"
   ]
  },
  {
   "cell_type": "code",
   "execution_count": null,
   "id": "69d0c5df-447f-4f79-9bbd-2d46ac5d1e43",
   "metadata": {},
   "outputs": [],
   "source": []
  }
 ],
 "metadata": {
  "kernelspec": {
   "display_name": "Python 3 (ipykernel)",
   "language": "python",
   "name": "python3"
  },
  "language_info": {
   "codemirror_mode": {
    "name": "ipython",
    "version": 3
   },
   "file_extension": ".py",
   "mimetype": "text/x-python",
   "name": "python",
   "nbconvert_exporter": "python",
   "pygments_lexer": "ipython3",
   "version": "3.10.17"
  }
 },
 "nbformat": 4,
 "nbformat_minor": 5
}
